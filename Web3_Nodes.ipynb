{
  "nbformat": 4,
  "nbformat_minor": 0,
  "metadata": {
    "colab": {
      "provenance": [],
      "authorship_tag": "ABX9TyPaE2fEYlX9g013g+nRYOQ8",
      "include_colab_link": true
    },
    "kernelspec": {
      "name": "python3",
      "display_name": "Python 3"
    },
    "language_info": {
      "name": "python"
    }
  },
  "cells": [
    {
      "cell_type": "markdown",
      "metadata": {
        "id": "view-in-github",
        "colab_type": "text"
      },
      "source": [
        "<a href=\"https://colab.research.google.com/github/MrsWanjau/DataScience-and-Machine-learning/blob/main/Web3_Nodes.ipynb\" target=\"_parent\"><img src=\"https://colab.research.google.com/assets/colab-badge.svg\" alt=\"Open In Colab\"/></a>"
      ]
    },
    {
      "source": [
        "!pip install thefuzz\n",
        "!pip install python-Levenshtein\n",
        "from thefuzz import process  # Import fuzzy matching library\n",
        "\n",
        "def web3():\n",
        "    keywords = {\n",
        "        \"who am i\": \"You are the world’s greatest, having the likes of Nelson Mandela as a neighbour... the special one.\",\n",
        "        \"hello\": \"Hi there!\",\n",
        "        \"how are you\": \"I'm doing well, thanks!\",\n",
        "        \"weather\": \"I'm sorry, I don't know the weather.\",\n",
        "        \"goodbye\": \"Goodbye!\",\n",
        "        \"thank you\": \"You're welcome!\",\n",
        "        \"what is your name\": \"I am a web3 chatbot.\",\n",
        "        \"what can you do\": \"I can answer questions about web3.\",\n",
        "        \"what is blockchain\": \"Blockchain is a decentralized ledger technology that records transactions across multiple computers in a network.\",\n",
        "        \"what is nft\": \"NFT stands for Non-Fungible Token, a unique digital asset that represents ownership of a specific item or piece of content.\",\n",
        "        \"what is dao\": \"DAO stands for Decentralized Autonomous Organization, a form of organization that operates without a central leader or authority.\",\n",
        "        \"what is cryptocurrency\": \"Cryptocurrency is a digital currency that is secured by cryptography.\",\n",
        "        \"what is web3\": \"Web3 is the next generation of the internet, which aims to be decentralized and blockchain-based.\",\n",
        "        \"what are the benefits of web3\": \"Web3 offers several benefits, including increased transparency, security, and control over data.\",\n",
        "        \"what are the challenges of web3\": \"Web3 faces several challenges, including scalability, interoperability, and adoption.\",\n",
        "        \"how does web3 work\": \"Web3 works by using blockchain technology to create a decentralized network of computers that can store and share data.\",\n",
        "        \"cryptocurrency\": \"Digital currency which is secured by cryptography.\",\n",
        "        \"blockchain\": \"A decentralized ledger technology that records transactions across multiple computers in a network.\",\n",
        "        \"mining\": \"The process of generating cryptocurrency by solving complex mathematical problems.\",\n",
        "        \"staking\": \"The process of locking up cryptocurrency in exchange for rewards.\",\n",
        "        \"airdrop\": \"The process of distributing cryptocurrency to users for free.\",\n",
        "        \"NFT\": \"Non-Fungible Token, a unique digital asset that represents ownership of a specific item or piece of content.\",\n",
        "        \"DAO\": \"Decentralized Autonomous Organization, a form of organization that operates without a central leader or authority.\",\n",
        "        \"smart contract\": \"A self-executing contract that is programmed to automatically fulfill its terms when certain conditions are met.\",\n",
        "        \"DeFi\": \"Decentralized Finance, a financial system that operates without intermediaries or centralized authorities.\",\n",
        "        \"Web3 Stack\": \"A set of technologies and protocols that enable the development of decentralized applications and services on the blockchain.\",\n",
        "        \"ethereum\": \"A decentralized platform that enables the creation and deployment of smart contracts and decentralized applications.\",\n",
        "        \"bitcoin\": \"The first cryptocurrency, created in 2009 by Satoshi Nakamoto.\",\n",
        "        \"solana\": \"A blockchain platform that aims to provide fast and scalable transactions.\",\n",
        "        \"polygon\": \"A blockchain platform that aims to provide scalability and interoperability.\",\n",
        "        \"avalanche\": \"A blockchain platform that aims to provide fast and secure transactions.\",\n",
        "        \"binance coin\": \"A cryptocurrency that is used to pay for fees on the Binance blockchain.\",\n",
        "        \"litecoin\": \"A cryptocurrency that is designed to be more environmentally friendly than Bitcoin.\",\n",
        "        \"cardano\": \"A blockchain platform that aims to provide a decentralized and sustainable ecosystem.\",\n",
        "        \"tron\": \"A blockchain platform that aims to provide a decentralized and scalable ecosystem.\",\n",
        "        \"stellar\": \"A blockchain platform that aims to provide fast and secure transactions.\",\n",
        "        \"metamask\": \"A cryptocurrency wallet that allows users to interact with decentralized applications and services on the blockchain.\",\n",
        "        \"coinbase\": \"A cryptocurrency exchange that allows users to buy, sell, and trade cryptocurrency.\",\n",
        "        \"binance\": \"A cryptocurrency exchange that allows users to buy, sell, and trade cryptocurrency.\",\n",
        "        \"kraken\": \"A cryptocurrency exchange that allows users to buy, sell, and trade cryptocurrency.\",\n",
        "        \"crypto wallet\": \"A digital wallet that stores cryptocurrency and allows users to send and receive transactions.\",\n",
        "        \"crypto exchange\": \"A platform that allows users to buy, sell, and trade cryptocurrency.\",\n",
        "        \"crypto mining\": \"The process of generating cryptocurrency by solving complex mathematical problems.\",\n",
        "        \"crypto staking\": \"The process of generating cryptocurrency by solving complex mathematical problems.\",\n",
        "        \"crypto staking\": \"The process of locking up cryptocurrency in exchange for rewards.\",\n",
        "        \"crypto lending\": \"The process of lending cryptocurrency to borrowers in exchange for interest.\",\n",
        "        \"borrowing\": \"The process of borrowing cryptocurrency from lenders in exchange for interest.\",\n",
        "        \"crypto derivatives\": \"Financial instruments that derive their value from the price of an underlying asset, such as cryptocurrency.\",\n",
        "    }\n",
        "\n",
        "    while True:\n",
        "        user_input = input(\"You: \").lower().strip()  # Convert to lowercase and remove extra spaces\n",
        "        if user_input == \"goodbye\":\n",
        "            print(\"web3: Goodbye!\")\n",
        "            break\n",
        "\n",
        "        # Use fuzzy matching to find the best match\n",
        "        best_match, confidence = process.extractOne(user_input, keywords.keys())\n",
        "\n",
        "        if confidence > 70:  # If match confidence is high enough, return response\n",
        "            response = keywords[best_match]\n",
        "        else:\n",
        "            response = \"I don't understand. Can you rephrase?\"\n",
        "\n",
        "        print(\"web3:\", response)\n",
        "\n",
        "# Run the chatbot\n",
        "web3()"
      ],
      "cell_type": "code",
      "metadata": {
        "colab": {
          "base_uri": "https://localhost:8080/"
        },
        "id": "NHHQjMm3X5f0",
        "outputId": "dd423402-8ce6-48c5-af6f-d8415e0b1039"
      },
      "execution_count": null,
      "outputs": [
        {
          "output_type": "stream",
          "name": "stdout",
          "text": [
            "Collecting thefuzz\n",
            "  Downloading thefuzz-0.22.1-py3-none-any.whl.metadata (3.9 kB)\n",
            "Collecting rapidfuzz<4.0.0,>=3.0.0 (from thefuzz)\n",
            "  Downloading rapidfuzz-3.13.0-cp311-cp311-manylinux_2_17_x86_64.manylinux2014_x86_64.whl.metadata (12 kB)\n",
            "Downloading thefuzz-0.22.1-py3-none-any.whl (8.2 kB)\n",
            "Downloading rapidfuzz-3.13.0-cp311-cp311-manylinux_2_17_x86_64.manylinux2014_x86_64.whl (3.1 MB)\n",
            "\u001b[2K   \u001b[90m━━━━━━━━━━━━━━━━━━━━━━━━━━━━━━━━━━━━━━━━\u001b[0m \u001b[32m3.1/3.1 MB\u001b[0m \u001b[31m24.0 MB/s\u001b[0m eta \u001b[36m0:00:00\u001b[0m\n",
            "\u001b[?25hInstalling collected packages: rapidfuzz, thefuzz\n",
            "Successfully installed rapidfuzz-3.13.0 thefuzz-0.22.1\n",
            "Collecting python-Levenshtein\n",
            "  Downloading python_levenshtein-0.27.1-py3-none-any.whl.metadata (3.7 kB)\n",
            "Collecting Levenshtein==0.27.1 (from python-Levenshtein)\n",
            "  Downloading levenshtein-0.27.1-cp311-cp311-manylinux_2_17_x86_64.manylinux2014_x86_64.whl.metadata (3.6 kB)\n",
            "Requirement already satisfied: rapidfuzz<4.0.0,>=3.9.0 in /usr/local/lib/python3.11/dist-packages (from Levenshtein==0.27.1->python-Levenshtein) (3.13.0)\n",
            "Downloading python_levenshtein-0.27.1-py3-none-any.whl (9.4 kB)\n",
            "Downloading levenshtein-0.27.1-cp311-cp311-manylinux_2_17_x86_64.manylinux2014_x86_64.whl (161 kB)\n",
            "\u001b[2K   \u001b[90m━━━━━━━━━━━━━━━━━━━━━━━━━━━━━━━━━━━━━━━━\u001b[0m \u001b[32m161.7/161.7 kB\u001b[0m \u001b[31m3.1 MB/s\u001b[0m eta \u001b[36m0:00:00\u001b[0m\n",
            "\u001b[?25hInstalling collected packages: Levenshtein, python-Levenshtein\n",
            "Successfully installed Levenshtein-0.27.1 python-Levenshtein-0.27.1\n"
          ]
        }
      ]
    }
  ]
}